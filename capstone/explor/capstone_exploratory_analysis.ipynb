{
 "cells": [
  {
   "cell_type": "code",
   "execution_count": 1,
   "metadata": {
    "collapsed": false
   },
   "outputs": [],
   "source": [
    "import pandas as pd\n",
    "import numpy as np\n",
    "%matplotlib inline\n",
    "import matplotlib.pyplot as plt\n",
    "import seaborn as sns"
   ]
  },
  {
   "cell_type": "code",
   "execution_count": 2,
   "metadata": {
    "collapsed": false
   },
   "outputs": [
    {
     "data": {
      "text/html": [
       "<div>\n",
       "<table border=\"1\" class=\"dataframe\">\n",
       "  <thead>\n",
       "    <tr style=\"text-align: right;\">\n",
       "      <th></th>\n",
       "      <th>InstanceID</th>\n",
       "      <th>subtlety</th>\n",
       "      <th>internalStructure</th>\n",
       "      <th>calcification</th>\n",
       "      <th>sphericity</th>\n",
       "      <th>margin</th>\n",
       "      <th>lobulation</th>\n",
       "      <th>spiculation</th>\n",
       "      <th>texture</th>\n",
       "      <th>malignancy</th>\n",
       "    </tr>\n",
       "  </thead>\n",
       "  <tbody>\n",
       "    <tr>\n",
       "      <th>0</th>\n",
       "      <td>1</td>\n",
       "      <td>5</td>\n",
       "      <td>1</td>\n",
       "      <td>6</td>\n",
       "      <td>3</td>\n",
       "      <td>3</td>\n",
       "      <td>3</td>\n",
       "      <td>4</td>\n",
       "      <td>5</td>\n",
       "      <td>5</td>\n",
       "    </tr>\n",
       "    <tr>\n",
       "      <th>1</th>\n",
       "      <td>2</td>\n",
       "      <td>5</td>\n",
       "      <td>1</td>\n",
       "      <td>6</td>\n",
       "      <td>3</td>\n",
       "      <td>3</td>\n",
       "      <td>3</td>\n",
       "      <td>4</td>\n",
       "      <td>5</td>\n",
       "      <td>5</td>\n",
       "    </tr>\n",
       "    <tr>\n",
       "      <th>2</th>\n",
       "      <td>3</td>\n",
       "      <td>5</td>\n",
       "      <td>1</td>\n",
       "      <td>6</td>\n",
       "      <td>3</td>\n",
       "      <td>3</td>\n",
       "      <td>3</td>\n",
       "      <td>4</td>\n",
       "      <td>5</td>\n",
       "      <td>5</td>\n",
       "    </tr>\n",
       "    <tr>\n",
       "      <th>3</th>\n",
       "      <td>4</td>\n",
       "      <td>5</td>\n",
       "      <td>1</td>\n",
       "      <td>6</td>\n",
       "      <td>3</td>\n",
       "      <td>3</td>\n",
       "      <td>3</td>\n",
       "      <td>4</td>\n",
       "      <td>5</td>\n",
       "      <td>5</td>\n",
       "    </tr>\n",
       "    <tr>\n",
       "      <th>4</th>\n",
       "      <td>5</td>\n",
       "      <td>5</td>\n",
       "      <td>1</td>\n",
       "      <td>6</td>\n",
       "      <td>3</td>\n",
       "      <td>3</td>\n",
       "      <td>3</td>\n",
       "      <td>4</td>\n",
       "      <td>5</td>\n",
       "      <td>5</td>\n",
       "    </tr>\n",
       "  </tbody>\n",
       "</table>\n",
       "</div>"
      ],
      "text/plain": [
       "   InstanceID  subtlety  internalStructure  calcification  sphericity  margin  \\\n",
       "0           1         5                  1              6           3       3   \n",
       "1           2         5                  1              6           3       3   \n",
       "2           3         5                  1              6           3       3   \n",
       "3           4         5                  1              6           3       3   \n",
       "4           5         5                  1              6           3       3   \n",
       "\n",
       "   lobulation  spiculation  texture  malignancy  \n",
       "0           3            4        5           5  \n",
       "1           3            4        5           5  \n",
       "2           3            4        5           5  \n",
       "3           3            4        5           5  \n",
       "4           3            4        5           5  "
      ]
     },
     "execution_count": 2,
     "metadata": {},
     "output_type": "execute_result"
    }
   ],
   "source": [
    "data = pd.read_csv('data.csv')\n",
    "data.head()"
   ]
  },
  {
   "cell_type": "code",
   "execution_count": 3,
   "metadata": {
    "collapsed": false
   },
   "outputs": [
    {
     "data": {
      "text/plain": [
       "InstanceID           int64\n",
       "subtlety             int64\n",
       "internalStructure    int64\n",
       "calcification        int64\n",
       "sphericity           int64\n",
       "margin               int64\n",
       "lobulation           int64\n",
       "spiculation          int64\n",
       "texture              int64\n",
       "malignancy           int64\n",
       "dtype: object"
      ]
     },
     "execution_count": 3,
     "metadata": {},
     "output_type": "execute_result"
    }
   ],
   "source": [
    "data.dtypes"
   ]
  },
  {
   "cell_type": "code",
   "execution_count": 4,
   "metadata": {
    "collapsed": false
   },
   "outputs": [
    {
     "data": {
      "text/plain": [
       "InstanceID           False\n",
       "subtlety             False\n",
       "internalStructure    False\n",
       "calcification        False\n",
       "sphericity           False\n",
       "margin               False\n",
       "lobulation           False\n",
       "spiculation          False\n",
       "texture              False\n",
       "malignancy           False\n",
       "dtype: bool"
      ]
     },
     "execution_count": 4,
     "metadata": {},
     "output_type": "execute_result"
    }
   ],
   "source": [
    "data.isnull().any()"
   ]
  },
  {
   "cell_type": "code",
   "execution_count": 7,
   "metadata": {
    "collapsed": false
   },
   "outputs": [
    {
     "data": {
      "text/html": [
       "<div>\n",
       "<table border=\"1\" class=\"dataframe\">\n",
       "  <thead>\n",
       "    <tr style=\"text-align: right;\">\n",
       "      <th></th>\n",
       "      <th>InstanceID</th>\n",
       "      <th>subtlety</th>\n",
       "      <th>internalStructure</th>\n",
       "      <th>calcification</th>\n",
       "      <th>sphericity</th>\n",
       "      <th>margin</th>\n",
       "      <th>lobulation</th>\n",
       "      <th>spiculation</th>\n",
       "      <th>texture</th>\n",
       "      <th>malignancy</th>\n",
       "    </tr>\n",
       "  </thead>\n",
       "  <tbody>\n",
       "    <tr>\n",
       "      <th>count</th>\n",
       "      <td>39548.000000</td>\n",
       "      <td>39548.000000</td>\n",
       "      <td>39548.000000</td>\n",
       "      <td>39548.000000</td>\n",
       "      <td>39548.000000</td>\n",
       "      <td>39548.000000</td>\n",
       "      <td>39548.000000</td>\n",
       "      <td>39548.000000</td>\n",
       "      <td>39548.000000</td>\n",
       "      <td>39548.000000</td>\n",
       "    </tr>\n",
       "    <tr>\n",
       "      <th>mean</th>\n",
       "      <td>20360.291797</td>\n",
       "      <td>4.126985</td>\n",
       "      <td>1.017852</td>\n",
       "      <td>5.671058</td>\n",
       "      <td>3.715460</td>\n",
       "      <td>3.879261</td>\n",
       "      <td>1.895090</td>\n",
       "      <td>1.795540</td>\n",
       "      <td>4.469050</td>\n",
       "      <td>3.096870</td>\n",
       "    </tr>\n",
       "    <tr>\n",
       "      <th>std</th>\n",
       "      <td>11813.871685</td>\n",
       "      <td>1.093619</td>\n",
       "      <td>0.224737</td>\n",
       "      <td>0.933116</td>\n",
       "      <td>0.973478</td>\n",
       "      <td>1.204908</td>\n",
       "      <td>1.144565</td>\n",
       "      <td>1.179416</td>\n",
       "      <td>1.105243</td>\n",
       "      <td>1.276381</td>\n",
       "    </tr>\n",
       "    <tr>\n",
       "      <th>min</th>\n",
       "      <td>1.000000</td>\n",
       "      <td>1.000000</td>\n",
       "      <td>1.000000</td>\n",
       "      <td>1.000000</td>\n",
       "      <td>1.000000</td>\n",
       "      <td>1.000000</td>\n",
       "      <td>1.000000</td>\n",
       "      <td>1.000000</td>\n",
       "      <td>1.000000</td>\n",
       "      <td>1.000000</td>\n",
       "    </tr>\n",
       "    <tr>\n",
       "      <th>25%</th>\n",
       "      <td>10088.750000</td>\n",
       "      <td>3.000000</td>\n",
       "      <td>1.000000</td>\n",
       "      <td>6.000000</td>\n",
       "      <td>3.000000</td>\n",
       "      <td>3.000000</td>\n",
       "      <td>1.000000</td>\n",
       "      <td>1.000000</td>\n",
       "      <td>4.000000</td>\n",
       "      <td>2.000000</td>\n",
       "    </tr>\n",
       "    <tr>\n",
       "      <th>50%</th>\n",
       "      <td>20303.500000</td>\n",
       "      <td>5.000000</td>\n",
       "      <td>1.000000</td>\n",
       "      <td>6.000000</td>\n",
       "      <td>4.000000</td>\n",
       "      <td>4.000000</td>\n",
       "      <td>1.000000</td>\n",
       "      <td>1.000000</td>\n",
       "      <td>5.000000</td>\n",
       "      <td>3.000000</td>\n",
       "    </tr>\n",
       "    <tr>\n",
       "      <th>75%</th>\n",
       "      <td>30618.250000</td>\n",
       "      <td>5.000000</td>\n",
       "      <td>1.000000</td>\n",
       "      <td>6.000000</td>\n",
       "      <td>5.000000</td>\n",
       "      <td>5.000000</td>\n",
       "      <td>3.000000</td>\n",
       "      <td>2.000000</td>\n",
       "      <td>5.000000</td>\n",
       "      <td>4.000000</td>\n",
       "    </tr>\n",
       "    <tr>\n",
       "      <th>max</th>\n",
       "      <td>40864.000000</td>\n",
       "      <td>5.000000</td>\n",
       "      <td>5.000000</td>\n",
       "      <td>6.000000</td>\n",
       "      <td>5.000000</td>\n",
       "      <td>5.000000</td>\n",
       "      <td>5.000000</td>\n",
       "      <td>5.000000</td>\n",
       "      <td>5.000000</td>\n",
       "      <td>5.000000</td>\n",
       "    </tr>\n",
       "  </tbody>\n",
       "</table>\n",
       "</div>"
      ],
      "text/plain": [
       "         InstanceID      subtlety  internalStructure  calcification  \\\n",
       "count  39548.000000  39548.000000       39548.000000   39548.000000   \n",
       "mean   20360.291797      4.126985           1.017852       5.671058   \n",
       "std    11813.871685      1.093619           0.224737       0.933116   \n",
       "min        1.000000      1.000000           1.000000       1.000000   \n",
       "25%    10088.750000      3.000000           1.000000       6.000000   \n",
       "50%    20303.500000      5.000000           1.000000       6.000000   \n",
       "75%    30618.250000      5.000000           1.000000       6.000000   \n",
       "max    40864.000000      5.000000           5.000000       6.000000   \n",
       "\n",
       "         sphericity        margin    lobulation   spiculation       texture  \\\n",
       "count  39548.000000  39548.000000  39548.000000  39548.000000  39548.000000   \n",
       "mean       3.715460      3.879261      1.895090      1.795540      4.469050   \n",
       "std        0.973478      1.204908      1.144565      1.179416      1.105243   \n",
       "min        1.000000      1.000000      1.000000      1.000000      1.000000   \n",
       "25%        3.000000      3.000000      1.000000      1.000000      4.000000   \n",
       "50%        4.000000      4.000000      1.000000      1.000000      5.000000   \n",
       "75%        5.000000      5.000000      3.000000      2.000000      5.000000   \n",
       "max        5.000000      5.000000      5.000000      5.000000      5.000000   \n",
       "\n",
       "         malignancy  \n",
       "count  39548.000000  \n",
       "mean       3.096870  \n",
       "std        1.276381  \n",
       "min        1.000000  \n",
       "25%        2.000000  \n",
       "50%        3.000000  \n",
       "75%        4.000000  \n",
       "max        5.000000  "
      ]
     },
     "execution_count": 7,
     "metadata": {},
     "output_type": "execute_result"
    }
   ],
   "source": [
    "data.describe()"
   ]
  },
  {
   "cell_type": "code",
   "execution_count": 6,
   "metadata": {
    "collapsed": false
   },
   "outputs": [
    {
     "data": {
      "text/plain": [
       "(39548, 10)"
      ]
     },
     "execution_count": 6,
     "metadata": {},
     "output_type": "execute_result"
    }
   ],
   "source": [
    "data.shape"
   ]
  },
  {
   "cell_type": "code",
   "execution_count": 88,
   "metadata": {
    "collapsed": true
   },
   "outputs": [],
   "source": [
    "data = data.drop(\"InstanceID\", 1)"
   ]
  },
  {
   "cell_type": "code",
   "execution_count": 90,
   "metadata": {
    "collapsed": false
   },
   "outputs": [
    {
     "data": {
      "image/png": "[encoded data removed]",
      "text/plain": [
       "<matplotlib.figure.Figure at 0x11815e3d0>"
      ]
     },
     "metadata": {},
     "output_type": "display_data"
    }
   ],
   "source": [
    "# loop to save the historgrams\n",
    "for i in data.columns:\n",
    "    data[i] = data[i].astype(str)\n",
    "    string = i + \"_distribution.png\"\n",
    "    plot = sns.countplot(x = i, data=data, palette=\"Greens_d\")\n",
    "    sns_plot = plot.get_figure()\n",
    "    sns_plot.savefig(string) "
   ]
  },
  {
   "cell_type": "code",
   "execution_count": null,
   "metadata": {
    "collapsed": true
   },
   "outputs": [],
   "source": [
    "sns.countplot(x=\"subtlety\", data=data, palette=\"Greens_d\");"
   ]
  },
  {
   "cell_type": "code",
   "execution_count": 7,
   "metadata": {
    "collapsed": false
   },
   "outputs": [
    {
     "data": {
      "image/png": "[encoded data removed]",
      "text/plain": [
       "<matplotlib.figure.Figure at 0x10fab60d0>"
      ]
     },
     "metadata": {},
     "output_type": "display_data"
    }
   ],
   "source": [
    "sns.countplot(x=\"malignancy\", data=data, palette=\"Greens_d\");\n",
    "plot = sns.countplot(x=\"malignancy\", data=data, palette=\"Greens_d\");\n",
    "sns_plot = plot.get_figure()\n",
    "sns_plot.savefig(\"malignancy_distribution_2.png\") "
   ]
  },
  {
   "cell_type": "code",
   "execution_count": 28,
   "metadata": {
    "collapsed": false
   },
   "outputs": [
    {
     "data": {
      "image/png": "[encoded data removed]",
      "text/plain": [
       "<matplotlib.figure.Figure at 0x11086f190>"
      ]
     },
     "metadata": {},
     "output_type": "display_data"
    }
   ],
   "source": [
    "sns.countplot(x=\"internalStructure\", data=data, palette=\"Greens_d\");"
   ]
  },
  {
   "cell_type": "code",
   "execution_count": 29,
   "metadata": {
    "collapsed": false
   },
   "outputs": [
    {
     "data": {
      "image/png": "[encoded data removed]",
      "text/plain": [
       "<matplotlib.figure.Figure at 0x1117d0e50>"
      ]
     },
     "metadata": {},
     "output_type": "display_data"
    }
   ],
   "source": [
    "sns.countplot(x=\"calcification\", data=data, palette=\"Greens_d\");"
   ]
  },
  {
   "cell_type": "code",
   "execution_count": 30,
   "metadata": {
    "collapsed": false
   },
   "outputs": [
    {
     "data": {
      "image/png": "[encoded data removed]",
      "text/plain": [
       "<matplotlib.figure.Figure at 0x111825450>"
      ]
     },
     "metadata": {},
     "output_type": "display_data"
    }
   ],
   "source": [
    "sns.countplot(x=\"sphericity\", data=data, palette=\"Greens_d\");"
   ]
  },
  {
   "cell_type": "code",
   "execution_count": 87,
   "metadata": {
    "collapsed": false
   },
   "outputs": [
    {
     "data": {
      "image/png": "[encoded data removed]",
      "text/plain": [
       "<matplotlib.figure.Figure at 0x1112e4190>"
      ]
     },
     "metadata": {},
     "output_type": "display_data"
    }
   ],
   "source": [
    "sns.countplot(x=\"lobulation\", data=data, palette=\"Greens_d\");\n",
    "plot = sns.countplot(x=\"lobulation\", data=data, palette=\"Greens_d\");\n",
    "sns_plot = plot.get_figure()\n",
    "sns_plot.savefig(\"lobulation_distribution.png\") "
   ]
  },
  {
   "cell_type": "code",
   "execution_count": 32,
   "metadata": {
    "collapsed": false
   },
   "outputs": [
    {
     "data": {
      "image/png": "[encoded data removed]",
      "text/plain": [
       "<matplotlib.figure.Figure at 0x110a7cf10>"
      ]
     },
     "metadata": {},
     "output_type": "display_data"
    }
   ],
   "source": [
    "sns.countplot(x=\"spiculation\", data=data, palette=\"Greens_d\");"
   ]
  },
  {
   "cell_type": "code",
   "execution_count": 33,
   "metadata": {
    "collapsed": false
   },
   "outputs": [
    {
     "data": {
      "image/png": "[encoded data removed]",
      "text/plain": [
       "<matplotlib.figure.Figure at 0x110ec0d10>"
      ]
     },
     "metadata": {},
     "output_type": "display_data"
    }
   ],
   "source": [
    "sns.countplot(x=\"texture\", data=data, palette=\"Greens_d\");"
   ]
  },
  {
   "cell_type": "code",
   "execution_count": 34,
   "metadata": {
    "collapsed": false
   },
   "outputs": [
    {
     "data": {
      "image/png": "[encoded data removed]",
      "text/plain": [
       "<matplotlib.figure.Figure at 0x11102d190>"
      ]
     },
     "metadata": {},
     "output_type": "display_data"
    }
   ],
   "source": [
    "sns.countplot(x=\"malignancy\", data=data, palette=\"Greens_d\");"
   ]
  },
  {
   "cell_type": "code",
   "execution_count": 97,
   "metadata": {
    "collapsed": false
   },
   "outputs": [
    {
     "data": {
      "image/png": "[encoded data removed]",
      "text/plain": [
       "<matplotlib.figure.Figure at 0x118653f90>"
      ]
     },
     "metadata": {},
     "output_type": "display_data"
    }
   ],
   "source": [
    "sns.countplot(y=\"subtlety\", hue=\"malignancy\", data=data, palette=\"Blues_d\")\n",
    "plot = sns.countplot(y=\"subtlety\", hue=\"malignancy\", data=data, palette=\"Blues_d\")\n",
    "sns_plot = plot.get_figure()\n",
    "sns_plot.savefig(\"malignancy_subtlety.png\")"
   ]
  },
  {
   "cell_type": "code",
   "execution_count": 42,
   "metadata": {
    "collapsed": false
   },
   "outputs": [
    {
     "data": {
      "text/plain": [
       "<matplotlib.axes._subplots.AxesSubplot at 0x1113aded0>"
      ]
     },
     "execution_count": 42,
     "metadata": {},
     "output_type": "execute_result"
    },
    {
     "data": {
      "image/png": "[encoded data removed]",
      "text/plain": [
       "<matplotlib.figure.Figure at 0x112f61d10>"
      ]
     },
     "metadata": {},
     "output_type": "display_data"
    }
   ],
   "source": [
    "sns.countplot(y=\"internalStructure\", hue=\"malignancy\", data=data, palette=\"Blues_d\")"
   ]
  },
  {
   "cell_type": "code",
   "execution_count": 43,
   "metadata": {
    "collapsed": false
   },
   "outputs": [
    {
     "data": {
      "text/plain": [
       "<matplotlib.axes._subplots.AxesSubplot at 0x1113d2910>"
      ]
     },
     "execution_count": 43,
     "metadata": {},
     "output_type": "execute_result"
    },
    {
     "data": {
      "image/png": "[encoded data removed]",
      "text/plain": [
       "<matplotlib.figure.Figure at 0x1105d39d0>"
      ]
     },
     "metadata": {},
     "output_type": "display_data"
    }
   ],
   "source": [
    "sns.countplot(y=\"calcification\", hue=\"malignancy\", data=data, palette=\"Blues_d\")"
   ]
  },
  {
   "cell_type": "code",
   "execution_count": 44,
   "metadata": {
    "collapsed": false
   },
   "outputs": [
    {
     "data": {
      "text/plain": [
       "<matplotlib.axes._subplots.AxesSubplot at 0x112f02250>"
      ]
     },
     "execution_count": 44,
     "metadata": {},
     "output_type": "execute_result"
    },
    {
     "data": {
      "image/png": "[encoded data removed]",
      "text/plain": [
       "<matplotlib.figure.Figure at 0x10cda4710>"
      ]
     },
     "metadata": {},
     "output_type": "display_data"
    }
   ],
   "source": [
    "sns.countplot(y=\"sphericity\", hue=\"malignancy\", data=data, palette=\"Blues_d\")"
   ]
  },
  {
   "cell_type": "code",
   "execution_count": 45,
   "metadata": {
    "collapsed": false
   },
   "outputs": [
    {
     "data": {
      "text/plain": [
       "<matplotlib.axes._subplots.AxesSubplot at 0x10ccd7b90>"
      ]
     },
     "execution_count": 45,
     "metadata": {},
     "output_type": "execute_result"
    },
    {
     "data": {
      "image/png": "[encoded data removed]",
      "text/plain": [
       "<matplotlib.figure.Figure at 0x1113d2a10>"
      ]
     },
     "metadata": {},
     "output_type": "display_data"
    }
   ],
   "source": [
    "sns.countplot(y=\"margin\", hue=\"malignancy\", data=data, palette=\"Blues_d\")"
   ]
  },
  {
   "cell_type": "code",
   "execution_count": 99,
   "metadata": {
    "collapsed": false
   },
   "outputs": [
    {
     "data": {
      "image/png": "[encoded data removed]",
      "text/plain": [
       "<matplotlib.figure.Figure at 0x11515bc50>"
      ]
     },
     "metadata": {},
     "output_type": "display_data"
    }
   ],
   "source": [
    "sns.countplot(y=\"lobulation\", hue=\"malignancy\", data=data, palette=\"Blues_d\")\n",
    "plot = sns.countplot(y=\"lobulation\", hue=\"malignancy\", data=data, palette=\"Blues_d\")\n",
    "sns_plot = plot.get_figure()\n",
    "sns_plot.savefig(\"malignancy_lobulation.png\")"
   ]
  },
  {
   "cell_type": "code",
   "execution_count": 47,
   "metadata": {
    "collapsed": false
   },
   "outputs": [
    {
     "data": {
      "text/plain": [
       "<matplotlib.axes._subplots.AxesSubplot at 0x111844690>"
      ]
     },
     "execution_count": 47,
     "metadata": {},
     "output_type": "execute_result"
    },
    {
     "data": {
      "image/png": "[encoded data removed]",
      "text/plain": [
       "<matplotlib.figure.Figure at 0x111858ed0>"
      ]
     },
     "metadata": {},
     "output_type": "display_data"
    }
   ],
   "source": [
    "sns.countplot(y=\"subtlety\", hue=\"malignancy\", data=data, palette=\"Blues_d\")"
   ]
  },
  {
   "cell_type": "code",
   "execution_count": 98,
   "metadata": {
    "collapsed": false
   },
   "outputs": [
    {
     "data": {
      "image/png": "[encoded data removed]",
      "text/plain": [
       "<matplotlib.figure.Figure at 0x11785ea90>"
      ]
     },
     "metadata": {},
     "output_type": "display_data"
    }
   ],
   "source": [
    "sns.countplot(y=\"spiculation\", hue=\"malignancy\", data=data, palette=\"Blues_d\")\n",
    "plot = sns.countplot(y=\"spiculation\", hue=\"malignancy\", data=data, palette=\"Blues_d\")\n",
    "sns_plot = plot.get_figure()\n",
    "sns_plot.savefig(\"malignancy_spiculation.png\")"
   ]
  },
  {
   "cell_type": "code",
   "execution_count": 51,
   "metadata": {
    "collapsed": false
   },
   "outputs": [
    {
     "data": {
      "text/plain": [
       "<matplotlib.axes._subplots.AxesSubplot at 0x1142d10d0>"
      ]
     },
     "execution_count": 51,
     "metadata": {},
     "output_type": "execute_result"
    },
    {
     "data": {
      "image/png": "[encoded data removed]",
      "text/plain": [
       "<matplotlib.figure.Figure at 0x110bfe5d0>"
      ]
     },
     "metadata": {},
     "output_type": "display_data"
    }
   ],
   "source": [
    "sns.countplot(y=\"texture\", hue=\"malignancy\", data=data, palette=\"Blues_d\")"
   ]
  },
  {
   "cell_type": "code",
   "execution_count": 54,
   "metadata": {
    "collapsed": true
   },
   "outputs": [],
   "source": [
    "for i in data.columns:\n",
    "    data[i] = data[i].astype(int)"
   ]
  },
  {
   "cell_type": "code",
   "execution_count": 55,
   "metadata": {
    "collapsed": false
   },
   "outputs": [
    {
     "data": {
      "text/plain": [
       "InstanceID           int64\n",
       "subtlety             int64\n",
       "internalStructure    int64\n",
       "calcification        int64\n",
       "sphericity           int64\n",
       "margin               int64\n",
       "lobulation           int64\n",
       "spiculation          int64\n",
       "texture              int64\n",
       "malignancy           int64\n",
       "dtype: object"
      ]
     },
     "execution_count": 55,
     "metadata": {},
     "output_type": "execute_result"
    }
   ],
   "source": [
    "data.dtypes"
   ]
  },
  {
   "cell_type": "code",
   "execution_count": 56,
   "metadata": {
    "collapsed": false
   },
   "outputs": [
    {
     "data": {
      "text/html": [
       "<div>\n",
       "<table border=\"1\" class=\"dataframe\">\n",
       "  <thead>\n",
       "    <tr style=\"text-align: right;\">\n",
       "      <th></th>\n",
       "      <th>InstanceID</th>\n",
       "      <th>subtlety</th>\n",
       "      <th>internalStructure</th>\n",
       "      <th>calcification</th>\n",
       "      <th>sphericity</th>\n",
       "      <th>margin</th>\n",
       "      <th>lobulation</th>\n",
       "      <th>spiculation</th>\n",
       "      <th>texture</th>\n",
       "      <th>malignancy</th>\n",
       "    </tr>\n",
       "  </thead>\n",
       "  <tbody>\n",
       "    <tr>\n",
       "      <th>InstanceID</th>\n",
       "      <td>1.000000</td>\n",
       "      <td>0.021648</td>\n",
       "      <td>0.020258</td>\n",
       "      <td>-0.034249</td>\n",
       "      <td>-0.040272</td>\n",
       "      <td>-0.056283</td>\n",
       "      <td>-0.036194</td>\n",
       "      <td>-0.060692</td>\n",
       "      <td>-0.063526</td>\n",
       "      <td>-0.044788</td>\n",
       "    </tr>\n",
       "    <tr>\n",
       "      <th>subtlety</th>\n",
       "      <td>0.021648</td>\n",
       "      <td>1.000000</td>\n",
       "      <td>0.028020</td>\n",
       "      <td>-0.138566</td>\n",
       "      <td>-0.035700</td>\n",
       "      <td>0.199848</td>\n",
       "      <td>0.250352</td>\n",
       "      <td>0.265244</td>\n",
       "      <td>0.390147</td>\n",
       "      <td>0.306009</td>\n",
       "    </tr>\n",
       "    <tr>\n",
       "      <th>internalStructure</th>\n",
       "      <td>0.020258</td>\n",
       "      <td>0.028020</td>\n",
       "      <td>1.000000</td>\n",
       "      <td>0.028003</td>\n",
       "      <td>0.012469</td>\n",
       "      <td>-0.062916</td>\n",
       "      <td>0.005905</td>\n",
       "      <td>0.027794</td>\n",
       "      <td>-0.060689</td>\n",
       "      <td>0.013012</td>\n",
       "    </tr>\n",
       "    <tr>\n",
       "      <th>calcification</th>\n",
       "      <td>-0.034249</td>\n",
       "      <td>-0.138566</td>\n",
       "      <td>0.028003</td>\n",
       "      <td>1.000000</td>\n",
       "      <td>-0.135193</td>\n",
       "      <td>-0.259690</td>\n",
       "      <td>0.118457</td>\n",
       "      <td>0.150431</td>\n",
       "      <td>-0.161236</td>\n",
       "      <td>0.518189</td>\n",
       "    </tr>\n",
       "    <tr>\n",
       "      <th>sphericity</th>\n",
       "      <td>-0.040272</td>\n",
       "      <td>-0.035700</td>\n",
       "      <td>0.012469</td>\n",
       "      <td>-0.135193</td>\n",
       "      <td>1.000000</td>\n",
       "      <td>0.318180</td>\n",
       "      <td>-0.227139</td>\n",
       "      <td>-0.232127</td>\n",
       "      <td>0.043578</td>\n",
       "      <td>-0.193290</td>\n",
       "    </tr>\n",
       "    <tr>\n",
       "      <th>margin</th>\n",
       "      <td>-0.056283</td>\n",
       "      <td>0.199848</td>\n",
       "      <td>-0.062916</td>\n",
       "      <td>-0.259690</td>\n",
       "      <td>0.318180</td>\n",
       "      <td>1.000000</td>\n",
       "      <td>-0.283795</td>\n",
       "      <td>-0.314135</td>\n",
       "      <td>0.604130</td>\n",
       "      <td>-0.258573</td>\n",
       "    </tr>\n",
       "    <tr>\n",
       "      <th>lobulation</th>\n",
       "      <td>-0.036194</td>\n",
       "      <td>0.250352</td>\n",
       "      <td>0.005905</td>\n",
       "      <td>0.118457</td>\n",
       "      <td>-0.227139</td>\n",
       "      <td>-0.283795</td>\n",
       "      <td>1.000000</td>\n",
       "      <td>0.478685</td>\n",
       "      <td>0.003120</td>\n",
       "      <td>0.385014</td>\n",
       "    </tr>\n",
       "    <tr>\n",
       "      <th>spiculation</th>\n",
       "      <td>-0.060692</td>\n",
       "      <td>0.265244</td>\n",
       "      <td>0.027794</td>\n",
       "      <td>0.150431</td>\n",
       "      <td>-0.232127</td>\n",
       "      <td>-0.314135</td>\n",
       "      <td>0.478685</td>\n",
       "      <td>1.000000</td>\n",
       "      <td>-0.016106</td>\n",
       "      <td>0.439288</td>\n",
       "    </tr>\n",
       "    <tr>\n",
       "      <th>texture</th>\n",
       "      <td>-0.063526</td>\n",
       "      <td>0.390147</td>\n",
       "      <td>-0.060689</td>\n",
       "      <td>-0.161236</td>\n",
       "      <td>0.043578</td>\n",
       "      <td>0.604130</td>\n",
       "      <td>0.003120</td>\n",
       "      <td>-0.016106</td>\n",
       "      <td>1.000000</td>\n",
       "      <td>-0.042175</td>\n",
       "    </tr>\n",
       "    <tr>\n",
       "      <th>malignancy</th>\n",
       "      <td>-0.044788</td>\n",
       "      <td>0.306009</td>\n",
       "      <td>0.013012</td>\n",
       "      <td>0.518189</td>\n",
       "      <td>-0.193290</td>\n",
       "      <td>-0.258573</td>\n",
       "      <td>0.385014</td>\n",
       "      <td>0.439288</td>\n",
       "      <td>-0.042175</td>\n",
       "      <td>1.000000</td>\n",
       "    </tr>\n",
       "  </tbody>\n",
       "</table>\n",
       "</div>"
      ],
      "text/plain": [
       "                   InstanceID  subtlety  internalStructure  calcification  \\\n",
       "InstanceID           1.000000  0.021648           0.020258      -0.034249   \n",
       "subtlety             0.021648  1.000000           0.028020      -0.138566   \n",
       "internalStructure    0.020258  0.028020           1.000000       0.028003   \n",
       "calcification       -0.034249 -0.138566           0.028003       1.000000   \n",
       "sphericity          -0.040272 -0.035700           0.012469      -0.135193   \n",
       "margin              -0.056283  0.199848          -0.062916      -0.259690   \n",
       "lobulation          -0.036194  0.250352           0.005905       0.118457   \n",
       "spiculation         -0.060692  0.265244           0.027794       0.150431   \n",
       "texture             -0.063526  0.390147          -0.060689      -0.161236   \n",
       "malignancy          -0.044788  0.306009           0.013012       0.518189   \n",
       "\n",
       "                   sphericity    margin  lobulation  spiculation   texture  \\\n",
       "InstanceID          -0.040272 -0.056283   -0.036194    -0.060692 -0.063526   \n",
       "subtlety            -0.035700  0.199848    0.250352     0.265244  0.390147   \n",
       "internalStructure    0.012469 -0.062916    0.005905     0.027794 -0.060689   \n",
       "calcification       -0.135193 -0.259690    0.118457     0.150431 -0.161236   \n",
       "sphericity           1.000000  0.318180   -0.227139    -0.232127  0.043578   \n",
       "margin               0.318180  1.000000   -0.283795    -0.314135  0.604130   \n",
       "lobulation          -0.227139 -0.283795    1.000000     0.478685  0.003120   \n",
       "spiculation         -0.232127 -0.314135    0.478685     1.000000 -0.016106   \n",
       "texture              0.043578  0.604130    0.003120    -0.016106  1.000000   \n",
       "malignancy          -0.193290 -0.258573    0.385014     0.439288 -0.042175   \n",
       "\n",
       "                   malignancy  \n",
       "InstanceID          -0.044788  \n",
       "subtlety             0.306009  \n",
       "internalStructure    0.013012  \n",
       "calcification        0.518189  \n",
       "sphericity          -0.193290  \n",
       "margin              -0.258573  \n",
       "lobulation           0.385014  \n",
       "spiculation          0.439288  \n",
       "texture             -0.042175  \n",
       "malignancy           1.000000  "
      ]
     },
     "execution_count": 56,
     "metadata": {},
     "output_type": "execute_result"
    }
   ],
   "source": [
    "data.corr()"
   ]
  },
  {
   "cell_type": "code",
   "execution_count": 76,
   "metadata": {
    "collapsed": false
   },
   "outputs": [
    {
     "data": {
      "text/html": [
       "<div>\n",
       "<table border=\"1\" class=\"dataframe\">\n",
       "  <thead>\n",
       "    <tr style=\"text-align: right;\">\n",
       "      <th></th>\n",
       "      <th>InstanceID</th>\n",
       "      <th>subtlety</th>\n",
       "      <th>internalStructure</th>\n",
       "      <th>calcification</th>\n",
       "      <th>sphericity</th>\n",
       "      <th>margin</th>\n",
       "      <th>lobulation</th>\n",
       "      <th>spiculation</th>\n",
       "      <th>texture</th>\n",
       "    </tr>\n",
       "    <tr>\n",
       "      <th>malignancy</th>\n",
       "      <th></th>\n",
       "      <th></th>\n",
       "      <th></th>\n",
       "      <th></th>\n",
       "      <th></th>\n",
       "      <th></th>\n",
       "      <th></th>\n",
       "      <th></th>\n",
       "      <th></th>\n",
       "    </tr>\n",
       "  </thead>\n",
       "  <tbody>\n",
       "    <tr>\n",
       "      <th>1</th>\n",
       "      <td>22372.977986</td>\n",
       "      <td>4.279369</td>\n",
       "      <td>1.014417</td>\n",
       "      <td>3.735437</td>\n",
       "      <td>3.975843</td>\n",
       "      <td>4.578025</td>\n",
       "      <td>1.414183</td>\n",
       "      <td>1.272355</td>\n",
       "      <td>4.886811</td>\n",
       "    </tr>\n",
       "    <tr>\n",
       "      <th>2</th>\n",
       "      <td>19955.278969</td>\n",
       "      <td>3.405629</td>\n",
       "      <td>1.010128</td>\n",
       "      <td>5.931474</td>\n",
       "      <td>3.965277</td>\n",
       "      <td>4.123109</td>\n",
       "      <td>1.348284</td>\n",
       "      <td>1.236617</td>\n",
       "      <td>4.429436</td>\n",
       "    </tr>\n",
       "    <tr>\n",
       "      <th>3</th>\n",
       "      <td>20367.652454</td>\n",
       "      <td>3.911148</td>\n",
       "      <td>1.016913</td>\n",
       "      <td>5.961013</td>\n",
       "      <td>3.689058</td>\n",
       "      <td>3.759330</td>\n",
       "      <td>1.882722</td>\n",
       "      <td>1.598221</td>\n",
       "      <td>4.288550</td>\n",
       "    </tr>\n",
       "    <tr>\n",
       "      <th>4</th>\n",
       "      <td>19534.346051</td>\n",
       "      <td>4.404394</td>\n",
       "      <td>1.036075</td>\n",
       "      <td>5.981591</td>\n",
       "      <td>3.584620</td>\n",
       "      <td>3.706799</td>\n",
       "      <td>1.956502</td>\n",
       "      <td>2.138213</td>\n",
       "      <td>4.354068</td>\n",
       "    </tr>\n",
       "    <tr>\n",
       "      <th>5</th>\n",
       "      <td>20122.262497</td>\n",
       "      <td>4.869019</td>\n",
       "      <td>1.013232</td>\n",
       "      <td>5.966720</td>\n",
       "      <td>3.445202</td>\n",
       "      <td>3.509222</td>\n",
       "      <td>2.746191</td>\n",
       "      <td>2.746057</td>\n",
       "      <td>4.630045</td>\n",
       "    </tr>\n",
       "  </tbody>\n",
       "</table>\n",
       "</div>"
      ],
      "text/plain": [
       "              InstanceID  subtlety  internalStructure  calcification  \\\n",
       "malignancy                                                             \n",
       "1           22372.977986  4.279369           1.014417       3.735437   \n",
       "2           19955.278969  3.405629           1.010128       5.931474   \n",
       "3           20367.652454  3.911148           1.016913       5.961013   \n",
       "4           19534.346051  4.404394           1.036075       5.981591   \n",
       "5           20122.262497  4.869019           1.013232       5.966720   \n",
       "\n",
       "            sphericity    margin  lobulation  spiculation   texture  \n",
       "malignancy                                                           \n",
       "1             3.975843  4.578025    1.414183     1.272355  4.886811  \n",
       "2             3.965277  4.123109    1.348284     1.236617  4.429436  \n",
       "3             3.689058  3.759330    1.882722     1.598221  4.288550  \n",
       "4             3.584620  3.706799    1.956502     2.138213  4.354068  \n",
       "5             3.445202  3.509222    2.746191     2.746057  4.630045  "
      ]
     },
     "execution_count": 76,
     "metadata": {},
     "output_type": "execute_result"
    }
   ],
   "source": [
    "means = data.groupby(\"malignancy\").mean()\n",
    "means"
   ]
  },
  {
   "cell_type": "code",
   "execution_count": 77,
   "metadata": {
    "collapsed": false
   },
   "outputs": [
    {
     "data": {
      "text/plain": [
       "InstanceID           float64\n",
       "subtlety             float64\n",
       "internalStructure    float64\n",
       "calcification        float64\n",
       "sphericity           float64\n",
       "margin               float64\n",
       "lobulation           float64\n",
       "spiculation          float64\n",
       "texture              float64\n",
       "malignancy            object\n",
       "dtype: object"
      ]
     },
     "execution_count": 77,
     "metadata": {},
     "output_type": "execute_result"
    }
   ],
   "source": [
    "means['malignancy'] = means.index\n",
    "means['malignancy'] = means['malignancy'].astype(str)\n",
    "means.dtypes"
   ]
  },
  {
   "cell_type": "code",
   "execution_count": 105,
   "metadata": {
    "collapsed": false
   },
   "outputs": [
    {
     "data": {
      "image/png": "[encoded data removed]",
      "text/plain": [
       "<matplotlib.figure.Figure at 0x119b0ac10>"
      ]
     },
     "metadata": {},
     "output_type": "display_data"
    }
   ],
   "source": [
    "import matplotlib\n",
    "matplotlib.style.use('ggplot')\n",
    "ax = means.plot.bar(\"malignancy\", \"subtlety\")\n",
    "fig = ax.get_figure()\n",
    "fig.savefig('subtlety_mean_malignancy.png')"
   ]
  },
  {
   "cell_type": "code",
   "execution_count": 104,
   "metadata": {
    "collapsed": false
   },
   "outputs": [
    {
     "data": {
      "image/png": "[encoded data removed]",
      "text/plain": [
       "<matplotlib.figure.Figure at 0x119846a50>"
      ]
     },
     "metadata": {},
     "output_type": "display_data"
    }
   ],
   "source": [
    "ax = means.plot.bar(\"malignancy\", \"lobulation\")\n",
    "fig = ax.get_figure()\n",
    "fig.savefig('lobulation_mean_malignancy.png')"
   ]
  },
  {
   "cell_type": "code",
   "execution_count": 103,
   "metadata": {
    "collapsed": false
   },
   "outputs": [
    {
     "data": {
      "image/png": "[encoded data removed]",
      "text/plain": [
       "<matplotlib.figure.Figure at 0x115aac510>"
      ]
     },
     "metadata": {},
     "output_type": "display_data"
    }
   ],
   "source": [
    "ax = means.plot.bar(\"malignancy\", \"spiculation\")\n",
    "fig = ax.get_figure()\n",
    "fig.savefig('spiculation_mean_malignancy.png')"
   ]
  },
  {
   "cell_type": "code",
   "execution_count": 106,
   "metadata": {
    "collapsed": false
   },
   "outputs": [
    {
     "data": {
      "text/html": [
       "<div>\n",
       "<table border=\"1\" class=\"dataframe\">\n",
       "  <thead>\n",
       "    <tr style=\"text-align: right;\">\n",
       "      <th></th>\n",
       "      <th>subtlety</th>\n",
       "      <th>internalStructure</th>\n",
       "      <th>calcification</th>\n",
       "      <th>sphericity</th>\n",
       "      <th>margin</th>\n",
       "      <th>lobulation</th>\n",
       "      <th>spiculation</th>\n",
       "      <th>texture</th>\n",
       "      <th>malignancy</th>\n",
       "    </tr>\n",
       "  </thead>\n",
       "  <tbody>\n",
       "    <tr>\n",
       "      <th>0</th>\n",
       "      <td>5</td>\n",
       "      <td>1</td>\n",
       "      <td>6</td>\n",
       "      <td>3</td>\n",
       "      <td>3</td>\n",
       "      <td>3</td>\n",
       "      <td>4</td>\n",
       "      <td>5</td>\n",
       "      <td>5</td>\n",
       "    </tr>\n",
       "    <tr>\n",
       "      <th>1</th>\n",
       "      <td>5</td>\n",
       "      <td>1</td>\n",
       "      <td>6</td>\n",
       "      <td>3</td>\n",
       "      <td>3</td>\n",
       "      <td>3</td>\n",
       "      <td>4</td>\n",
       "      <td>5</td>\n",
       "      <td>5</td>\n",
       "    </tr>\n",
       "    <tr>\n",
       "      <th>2</th>\n",
       "      <td>5</td>\n",
       "      <td>1</td>\n",
       "      <td>6</td>\n",
       "      <td>3</td>\n",
       "      <td>3</td>\n",
       "      <td>3</td>\n",
       "      <td>4</td>\n",
       "      <td>5</td>\n",
       "      <td>5</td>\n",
       "    </tr>\n",
       "    <tr>\n",
       "      <th>3</th>\n",
       "      <td>5</td>\n",
       "      <td>1</td>\n",
       "      <td>6</td>\n",
       "      <td>3</td>\n",
       "      <td>3</td>\n",
       "      <td>3</td>\n",
       "      <td>4</td>\n",
       "      <td>5</td>\n",
       "      <td>5</td>\n",
       "    </tr>\n",
       "    <tr>\n",
       "      <th>4</th>\n",
       "      <td>5</td>\n",
       "      <td>1</td>\n",
       "      <td>6</td>\n",
       "      <td>3</td>\n",
       "      <td>3</td>\n",
       "      <td>3</td>\n",
       "      <td>4</td>\n",
       "      <td>5</td>\n",
       "      <td>5</td>\n",
       "    </tr>\n",
       "  </tbody>\n",
       "</table>\n",
       "</div>"
      ],
      "text/plain": [
       "  subtlety internalStructure calcification sphericity margin lobulation  \\\n",
       "0        5                 1             6          3      3          3   \n",
       "1        5                 1             6          3      3          3   \n",
       "2        5                 1             6          3      3          3   \n",
       "3        5                 1             6          3      3          3   \n",
       "4        5                 1             6          3      3          3   \n",
       "\n",
       "  spiculation texture malignancy  \n",
       "0           4       5          5  \n",
       "1           4       5          5  \n",
       "2           4       5          5  \n",
       "3           4       5          5  \n",
       "4           4       5          5  "
      ]
     },
     "execution_count": 106,
     "metadata": {},
     "output_type": "execute_result"
    }
   ],
   "source": [
    "data.head()"
   ]
  },
  {
   "cell_type": "code",
   "execution_count": 107,
   "metadata": {
    "collapsed": false
   },
   "outputs": [
    {
     "data": {
      "text/html": [
       "<div>\n",
       "<table border=\"1\" class=\"dataframe\">\n",
       "  <thead>\n",
       "    <tr style=\"text-align: right;\">\n",
       "      <th></th>\n",
       "      <th>InstanceID</th>\n",
       "      <th>subtlety</th>\n",
       "      <th>internalStructure</th>\n",
       "      <th>calcification</th>\n",
       "      <th>sphericity</th>\n",
       "      <th>margin</th>\n",
       "      <th>lobulation</th>\n",
       "      <th>spiculation</th>\n",
       "      <th>texture</th>\n",
       "      <th>malignancy</th>\n",
       "    </tr>\n",
       "  </thead>\n",
       "  <tbody>\n",
       "    <tr>\n",
       "      <th>0</th>\n",
       "      <td>1</td>\n",
       "      <td>5</td>\n",
       "      <td>1</td>\n",
       "      <td>6</td>\n",
       "      <td>3</td>\n",
       "      <td>3</td>\n",
       "      <td>3</td>\n",
       "      <td>4</td>\n",
       "      <td>5</td>\n",
       "      <td>5</td>\n",
       "    </tr>\n",
       "    <tr>\n",
       "      <th>1</th>\n",
       "      <td>2</td>\n",
       "      <td>5</td>\n",
       "      <td>1</td>\n",
       "      <td>6</td>\n",
       "      <td>3</td>\n",
       "      <td>3</td>\n",
       "      <td>3</td>\n",
       "      <td>4</td>\n",
       "      <td>5</td>\n",
       "      <td>5</td>\n",
       "    </tr>\n",
       "    <tr>\n",
       "      <th>2</th>\n",
       "      <td>3</td>\n",
       "      <td>5</td>\n",
       "      <td>1</td>\n",
       "      <td>6</td>\n",
       "      <td>3</td>\n",
       "      <td>3</td>\n",
       "      <td>3</td>\n",
       "      <td>4</td>\n",
       "      <td>5</td>\n",
       "      <td>5</td>\n",
       "    </tr>\n",
       "    <tr>\n",
       "      <th>3</th>\n",
       "      <td>4</td>\n",
       "      <td>5</td>\n",
       "      <td>1</td>\n",
       "      <td>6</td>\n",
       "      <td>3</td>\n",
       "      <td>3</td>\n",
       "      <td>3</td>\n",
       "      <td>4</td>\n",
       "      <td>5</td>\n",
       "      <td>5</td>\n",
       "    </tr>\n",
       "    <tr>\n",
       "      <th>4</th>\n",
       "      <td>5</td>\n",
       "      <td>5</td>\n",
       "      <td>1</td>\n",
       "      <td>6</td>\n",
       "      <td>3</td>\n",
       "      <td>3</td>\n",
       "      <td>3</td>\n",
       "      <td>4</td>\n",
       "      <td>5</td>\n",
       "      <td>5</td>\n",
       "    </tr>\n",
       "  </tbody>\n",
       "</table>\n",
       "</div>"
      ],
      "text/plain": [
       "   InstanceID  subtlety  internalStructure  calcification  sphericity  margin  \\\n",
       "0           1         5                  1              6           3       3   \n",
       "1           2         5                  1              6           3       3   \n",
       "2           3         5                  1              6           3       3   \n",
       "3           4         5                  1              6           3       3   \n",
       "4           5         5                  1              6           3       3   \n",
       "\n",
       "   lobulation  spiculation  texture  malignancy  \n",
       "0           3            4        5           5  \n",
       "1           3            4        5           5  \n",
       "2           3            4        5           5  \n",
       "3           3            4        5           5  \n",
       "4           3            4        5           5  "
      ]
     },
     "execution_count": 107,
     "metadata": {},
     "output_type": "execute_result"
    }
   ],
   "source": [
    "data = pd.read_csv('data.csv')\n",
    "data.head()"
   ]
  },
  {
   "cell_type": "code",
   "execution_count": 2,
   "metadata": {
    "collapsed": false
   },
   "outputs": [
    {
     "data": {
      "text/html": [
       "<div>\n",
       "<table border=\"1\" class=\"dataframe\">\n",
       "  <thead>\n",
       "    <tr style=\"text-align: right;\">\n",
       "      <th></th>\n",
       "      <th>noduleID</th>\n",
       "      <th>slice_od</th>\n",
       "      <th>malignancy</th>\n",
       "    </tr>\n",
       "  </thead>\n",
       "  <tbody>\n",
       "    <tr>\n",
       "      <th>0</th>\n",
       "      <td>1951</td>\n",
       "      <td>1.3.6.1.4.1.14519.5.2.1.6279.6001.100089346800...</td>\n",
       "      <td>3</td>\n",
       "    </tr>\n",
       "    <tr>\n",
       "      <th>1</th>\n",
       "      <td>1951</td>\n",
       "      <td>1.3.6.1.4.1.14519.5.2.1.6279.6001.100089346800...</td>\n",
       "      <td>2</td>\n",
       "    </tr>\n",
       "    <tr>\n",
       "      <th>2</th>\n",
       "      <td>1951</td>\n",
       "      <td>1.3.6.1.4.1.14519.5.2.1.6279.6001.100089346800...</td>\n",
       "      <td>3</td>\n",
       "    </tr>\n",
       "    <tr>\n",
       "      <th>3</th>\n",
       "      <td>1848</td>\n",
       "      <td>1.3.6.1.4.1.14519.5.2.1.6279.6001.100094811998...</td>\n",
       "      <td>3</td>\n",
       "    </tr>\n",
       "    <tr>\n",
       "      <th>4</th>\n",
       "      <td>1848</td>\n",
       "      <td>1.3.6.1.4.1.14519.5.2.1.6279.6001.100094811998...</td>\n",
       "      <td>4</td>\n",
       "    </tr>\n",
       "  </tbody>\n",
       "</table>\n",
       "</div>"
      ],
      "text/plain": [
       "   noduleID                                           slice_od  malignancy\n",
       "0      1951  1.3.6.1.4.1.14519.5.2.1.6279.6001.100089346800...           3\n",
       "1      1951  1.3.6.1.4.1.14519.5.2.1.6279.6001.100089346800...           2\n",
       "2      1951  1.3.6.1.4.1.14519.5.2.1.6279.6001.100089346800...           3\n",
       "3      1848  1.3.6.1.4.1.14519.5.2.1.6279.6001.100094811998...           3\n",
       "4      1848  1.3.6.1.4.1.14519.5.2.1.6279.6001.100094811998...           4"
      ]
     },
     "execution_count": 2,
     "metadata": {},
     "output_type": "execute_result"
    }
   ],
   "source": [
    "import pandas as pd\n",
    "data = pd.read_csv('data_2.csv')\n",
    "data = data.drop(\"Unnamed: 3\", 1)\n",
    "data.head()"
   ]
  },
  {
   "cell_type": "code",
   "execution_count": 3,
   "metadata": {
    "collapsed": false
   },
   "outputs": [
    {
     "ename": "KeyError",
     "evalue": "'slice_id'",
     "output_type": "error",
     "traceback": [
      "\u001b[0;31m---------------------------------------------------------------------------\u001b[0m",
      "\u001b[0;31mKeyError\u001b[0m                                  Traceback (most recent call last)",
      "\u001b[0;32m<ipython-input-3-e075dacca0a0>\u001b[0m in \u001b[0;36m<module>\u001b[0;34m()\u001b[0m\n\u001b[1;32m      3\u001b[0m \u001b[0;32mfor\u001b[0m \u001b[0mi\u001b[0m\u001b[0;34m,\u001b[0m \u001b[0mr\u001b[0m \u001b[0;32min\u001b[0m \u001b[0mdata\u001b[0m\u001b[0;34m.\u001b[0m\u001b[0miterrows\u001b[0m\u001b[0;34m(\u001b[0m\u001b[0;34m)\u001b[0m\u001b[0;34m:\u001b[0m\u001b[0;34m\u001b[0m\u001b[0m\n\u001b[1;32m      4\u001b[0m \u001b[0;34m\u001b[0m\u001b[0m\n\u001b[0;32m----> 5\u001b[0;31m     \u001b[0;32mif\u001b[0m \u001b[0mr\u001b[0m\u001b[0;34m[\u001b[0m\u001b[0;34m\"slice_id\"\u001b[0m\u001b[0;34m]\u001b[0m \u001b[0;32mnot\u001b[0m \u001b[0;32min\u001b[0m \u001b[0mprob_dict\u001b[0m\u001b[0;34m:\u001b[0m\u001b[0;34m\u001b[0m\u001b[0m\n\u001b[0m\u001b[1;32m      6\u001b[0m         \u001b[0mprob_dict\u001b[0m\u001b[0;34m[\u001b[0m\u001b[0;34m\"slice_id\"\u001b[0m\u001b[0;34m]\u001b[0m \u001b[0;34m=\u001b[0m \u001b[0;34m[\u001b[0m\u001b[0mr\u001b[0m\u001b[0;34m[\u001b[0m\u001b[0;34m\"malignancy\"\u001b[0m\u001b[0;34m]\u001b[0m\u001b[0;34m]\u001b[0m\u001b[0;34m\u001b[0m\u001b[0m\n\u001b[1;32m      7\u001b[0m     \u001b[0;32melse\u001b[0m\u001b[0;34m:\u001b[0m\u001b[0;34m\u001b[0m\u001b[0m\n",
      "\u001b[0;32m/Users/Brian/anaconda/lib/python2.7/site-packages/pandas/core/series.pyc\u001b[0m in \u001b[0;36m__getitem__\u001b[0;34m(self, key)\u001b[0m\n\u001b[1;32m    558\u001b[0m     \u001b[0;32mdef\u001b[0m \u001b[0m__getitem__\u001b[0m\u001b[0;34m(\u001b[0m\u001b[0mself\u001b[0m\u001b[0;34m,\u001b[0m \u001b[0mkey\u001b[0m\u001b[0;34m)\u001b[0m\u001b[0;34m:\u001b[0m\u001b[0;34m\u001b[0m\u001b[0m\n\u001b[1;32m    559\u001b[0m         \u001b[0;32mtry\u001b[0m\u001b[0;34m:\u001b[0m\u001b[0;34m\u001b[0m\u001b[0m\n\u001b[0;32m--> 560\u001b[0;31m             \u001b[0mresult\u001b[0m \u001b[0;34m=\u001b[0m \u001b[0mself\u001b[0m\u001b[0;34m.\u001b[0m\u001b[0mindex\u001b[0m\u001b[0;34m.\u001b[0m\u001b[0mget_value\u001b[0m\u001b[0;34m(\u001b[0m\u001b[0mself\u001b[0m\u001b[0;34m,\u001b[0m \u001b[0mkey\u001b[0m\u001b[0;34m)\u001b[0m\u001b[0;34m\u001b[0m\u001b[0m\n\u001b[0m\u001b[1;32m    561\u001b[0m \u001b[0;34m\u001b[0m\u001b[0m\n\u001b[1;32m    562\u001b[0m             \u001b[0;32mif\u001b[0m \u001b[0;32mnot\u001b[0m \u001b[0mlib\u001b[0m\u001b[0;34m.\u001b[0m\u001b[0misscalar\u001b[0m\u001b[0;34m(\u001b[0m\u001b[0mresult\u001b[0m\u001b[0;34m)\u001b[0m\u001b[0;34m:\u001b[0m\u001b[0;34m\u001b[0m\u001b[0m\n",
      "\u001b[0;32m/Users/Brian/anaconda/lib/python2.7/site-packages/pandas/indexes/base.pyc\u001b[0m in \u001b[0;36mget_value\u001b[0;34m(self, series, key)\u001b[0m\n\u001b[1;32m   1923\u001b[0m                     \u001b[0;32mraise\u001b[0m \u001b[0mInvalidIndexError\u001b[0m\u001b[0;34m(\u001b[0m\u001b[0mkey\u001b[0m\u001b[0;34m)\u001b[0m\u001b[0;34m\u001b[0m\u001b[0m\n\u001b[1;32m   1924\u001b[0m                 \u001b[0;32melse\u001b[0m\u001b[0;34m:\u001b[0m\u001b[0;34m\u001b[0m\u001b[0m\n\u001b[0;32m-> 1925\u001b[0;31m                     \u001b[0;32mraise\u001b[0m \u001b[0me1\u001b[0m\u001b[0;34m\u001b[0m\u001b[0m\n\u001b[0m\u001b[1;32m   1926\u001b[0m             \u001b[0;32mexcept\u001b[0m \u001b[0mException\u001b[0m\u001b[0;34m:\u001b[0m  \u001b[0;31m# pragma: no cover\u001b[0m\u001b[0;34m\u001b[0m\u001b[0m\n\u001b[1;32m   1927\u001b[0m                 \u001b[0;32mraise\u001b[0m \u001b[0me1\u001b[0m\u001b[0;34m\u001b[0m\u001b[0m\n",
      "\u001b[0;31mKeyError\u001b[0m: 'slice_id'"
     ]
    }
   ],
   "source": [
    "prob_dict = {}\n",
    "\n",
    "for i, r in data.iterrows():\n",
    "    \n",
    "    if r[\"slice_d\"] not in prob_dict:\n",
    "        prob_dict[\"slice_id\"] = [r[\"malignancy\"]]\n",
    "    else:\n",
    "        prob_dict[\"slice_id\"].append([r[\"malignancy\"]])\n",
    "\n",
    "len(prob_dict)"
   ]
  },
  {
   "cell_type": "code",
   "execution_count": null,
   "metadata": {
    "collapsed": true
   },
   "outputs": [],
   "source": []
  }
 ],
 "metadata": {
  "kernelspec": {
   "display_name": "Python 2",
   "language": "python",
   "name": "python2"
  },
  "language_info": {
   "codemirror_mode": {
    "name": "ipython",
    "version": 2
   },
   "file_extension": ".py",
   "mimetype": "text/x-python",
   "name": "python",
   "nbconvert_exporter": "python",
   "pygments_lexer": "ipython2",
   "version": "2.7.11"
  }
 },
 "nbformat": 4,
 "nbformat_minor": 0
}
