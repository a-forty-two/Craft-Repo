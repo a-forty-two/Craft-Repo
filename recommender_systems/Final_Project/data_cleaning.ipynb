{
 "cells": [
  {
   "cell_type": "code",
   "execution_count": 1,
   "metadata": {
    "collapsed": true
   },
   "outputs": [],
   "source": [
    "import pandas as pd\n",
    "import numpy as np"
   ]
  },
  {
   "cell_type": "markdown",
   "metadata": {},
   "source": [
    "### Amazon"
   ]
  },
  {
   "cell_type": "code",
   "execution_count": 9,
   "metadata": {
    "collapsed": false
   },
   "outputs": [
    {
     "data": {
      "text/html": [
       "<div>\n",
       "<table border=\"1\" class=\"dataframe\">\n",
       "  <thead>\n",
       "    <tr style=\"text-align: right;\">\n",
       "      <th></th>\n",
       "      <th>User</th>\n",
       "      <th>Item</th>\n",
       "      <th>Rating</th>\n",
       "    </tr>\n",
       "  </thead>\n",
       "  <tbody>\n",
       "    <tr>\n",
       "      <th>0</th>\n",
       "      <td>0</td>\n",
       "      <td>0</td>\n",
       "      <td>5</td>\n",
       "    </tr>\n",
       "    <tr>\n",
       "      <th>1</th>\n",
       "      <td>0</td>\n",
       "      <td>5925</td>\n",
       "      <td>4</td>\n",
       "    </tr>\n",
       "  </tbody>\n",
       "</table>\n",
       "</div>"
      ],
      "text/plain": [
       "   User  Item  Rating\n",
       "0     0     0       5\n",
       "1     0  5925       4"
      ]
     },
     "execution_count": 9,
     "metadata": {},
     "output_type": "execute_result"
    }
   ],
   "source": [
    "amazon = pd.read_csv('amazon.csv', header = None)\n",
    "amazon.columns = ['User', 'Item', 'Rating']\n",
    "amazon.head(2)"
   ]
  },
  {
   "cell_type": "code",
   "execution_count": 17,
   "metadata": {
    "collapsed": false
   },
   "outputs": [
    {
     "name": "stdout",
     "output_type": "stream",
     "text": [
      "Users: 66519\n",
      "Items: 28237\n",
      "Ratings: 551682\n",
      "Total Size: 1878297003\n",
      "Dense: 0.00029371393295\n"
     ]
    }
   ],
   "source": [
    "print 'Users:', len(amazon['User'].unique())\n",
    "print 'Items:', len(amazon['Item'].unique())\n",
    "print 'Ratings:', amazon.shape[0]\n",
    "print 'Total Size:', len(amazon['User'].unique()) * len(amazon['Item'].unique())\n",
    "print 'Dense:', float(amazon.shape[0])/(float(len(amazon['User'].unique())) * \\\n",
    "                                        float(len(amazon['Item'].unique())))"
   ]
  },
  {
   "cell_type": "markdown",
   "metadata": {},
   "source": [
    "### Book Crossing"
   ]
  },
  {
   "cell_type": "code",
   "execution_count": 18,
   "metadata": {
    "collapsed": false
   },
   "outputs": [
    {
     "data": {
      "text/html": [
       "<div>\n",
       "<table border=\"1\" class=\"dataframe\">\n",
       "  <thead>\n",
       "    <tr style=\"text-align: right;\">\n",
       "      <th></th>\n",
       "      <th>User</th>\n",
       "      <th>Item</th>\n",
       "      <th>Rating</th>\n",
       "    </tr>\n",
       "  </thead>\n",
       "  <tbody>\n",
       "    <tr>\n",
       "      <th>0</th>\n",
       "      <td>276746</td>\n",
       "      <td>0</td>\n",
       "      <td>1</td>\n",
       "    </tr>\n",
       "    <tr>\n",
       "      <th>1</th>\n",
       "      <td>276746</td>\n",
       "      <td>1</td>\n",
       "      <td>1</td>\n",
       "    </tr>\n",
       "  </tbody>\n",
       "</table>\n",
       "</div>"
      ],
      "text/plain": [
       "     User  Item  Rating\n",
       "0  276746     0       1\n",
       "1  276746     1       1"
      ]
     },
     "execution_count": 18,
     "metadata": {},
     "output_type": "execute_result"
    }
   ],
   "source": [
    "books = pd.read_csv('book_crossing.csv', header = None)\n",
    "books.columns = ['User', 'Item', 'Rating']\n",
    "books.head(2)"
   ]
  },
  {
   "cell_type": "code",
   "execution_count": 19,
   "metadata": {
    "collapsed": false
   },
   "outputs": [
    {
     "name": "stdout",
     "output_type": "stream",
     "text": [
      "Users: 21915\n",
      "Items: 39702\n",
      "Ratings: 608766\n",
      "Total Size: 870069330\n",
      "Dense: 0.000699675277601\n"
     ]
    }
   ],
   "source": [
    "print 'Users:', len(books['User'].unique())\n",
    "print 'Items:', len(books['Item'].unique())\n",
    "print 'Ratings:', books.shape[0]\n",
    "print 'Total Size:', len(books['User'].unique()) * len(books['Item'].unique())\n",
    "print 'Dense:', float(books.shape[0])/(float(len(books['User'].unique())) * \\\n",
    "                                        float(len(books['Item'].unique())))"
   ]
  },
  {
   "cell_type": "markdown",
   "metadata": {},
   "source": [
    "### Yelp"
   ]
  },
  {
   "cell_type": "code",
   "execution_count": 20,
   "metadata": {
    "collapsed": false
   },
   "outputs": [
    {
     "data": {
      "text/html": [
       "<div>\n",
       "<table border=\"1\" class=\"dataframe\">\n",
       "  <thead>\n",
       "    <tr style=\"text-align: right;\">\n",
       "      <th></th>\n",
       "      <th>User</th>\n",
       "      <th>Item</th>\n",
       "      <th>Rating</th>\n",
       "    </tr>\n",
       "  </thead>\n",
       "  <tbody>\n",
       "    <tr>\n",
       "      <th>0</th>\n",
       "      <td>10000</td>\n",
       "      <td>0</td>\n",
       "      <td>5</td>\n",
       "    </tr>\n",
       "    <tr>\n",
       "      <th>1</th>\n",
       "      <td>10001</td>\n",
       "      <td>1</td>\n",
       "      <td>5</td>\n",
       "    </tr>\n",
       "  </tbody>\n",
       "</table>\n",
       "</div>"
      ],
      "text/plain": [
       "    User  Item  Rating\n",
       "0  10000     0       5\n",
       "1  10001     1       5"
      ]
     },
     "execution_count": 20,
     "metadata": {},
     "output_type": "execute_result"
    }
   ],
   "source": [
    "yelp = pd.read_csv('yelp.csv', header = None)\n",
    "yelp.columns = ['User', 'Item', 'Rating']\n",
    "yelp.head(2)"
   ]
  },
  {
   "cell_type": "code",
   "execution_count": 21,
   "metadata": {
    "collapsed": false
   },
   "outputs": [
    {
     "name": "stdout",
     "output_type": "stream",
     "text": [
      "Users: 8043\n",
      "Items: 5199\n",
      "Ratings: 141454\n",
      "Total Size: 41815557\n",
      "Dense: 0.00338280798221\n"
     ]
    }
   ],
   "source": [
    "print 'Users:', len(yelp['User'].unique())\n",
    "print 'Items:', len(yelp['Item'].unique())\n",
    "print 'Ratings:', yelp.shape[0]\n",
    "print 'Total Size:', len(yelp['User'].unique()) * len(yelp['Item'].unique())\n",
    "print 'Dense:', float(yelp.shape[0])/(float(len(yelp['User'].unique())) * \\\n",
    "                                        float(len(yelp['Item'].unique())))"
   ]
  },
  {
   "cell_type": "markdown",
   "metadata": {},
   "source": [
    "### Movie Lens"
   ]
  },
  {
   "cell_type": "code",
   "execution_count": 22,
   "metadata": {
    "collapsed": false
   },
   "outputs": [
    {
     "data": {
      "text/html": [
       "<div>\n",
       "<table border=\"1\" class=\"dataframe\">\n",
       "  <thead>\n",
       "    <tr style=\"text-align: right;\">\n",
       "      <th></th>\n",
       "      <th>User</th>\n",
       "      <th>Item</th>\n",
       "      <th>Rating</th>\n",
       "    </tr>\n",
       "  </thead>\n",
       "  <tbody>\n",
       "    <tr>\n",
       "      <th>0</th>\n",
       "      <td>1</td>\n",
       "      <td>661</td>\n",
       "      <td>3</td>\n",
       "    </tr>\n",
       "    <tr>\n",
       "      <th>1</th>\n",
       "      <td>1</td>\n",
       "      <td>914</td>\n",
       "      <td>3</td>\n",
       "    </tr>\n",
       "  </tbody>\n",
       "</table>\n",
       "</div>"
      ],
      "text/plain": [
       "   User  Item  Rating\n",
       "0     1   661       3\n",
       "1     1   914       3"
      ]
     },
     "execution_count": 22,
     "metadata": {},
     "output_type": "execute_result"
    }
   ],
   "source": [
    "movie = pd.read_csv('movie_lens.csv', header = None)\n",
    "movie.columns = ['User', 'Item', 'Rating']\n",
    "movie.head(2)"
   ]
  },
  {
   "cell_type": "code",
   "execution_count": 23,
   "metadata": {
    "collapsed": false
   },
   "outputs": [
    {
     "name": "stdout",
     "output_type": "stream",
     "text": [
      "Users: 6040\n",
      "Items: 3706\n",
      "Ratings: 1000208\n",
      "Total Size: 22384240\n",
      "Dense: 0.044683580948\n"
     ]
    }
   ],
   "source": [
    "print 'Users:', len(movie['User'].unique())\n",
    "print 'Items:', len(movie['Item'].unique())\n",
    "print 'Ratings:', movie.shape[0]\n",
    "print 'Total Size:', len(movie['User'].unique()) * len(movie['Item'].unique())\n",
    "print 'Dense:', float(movie.shape[0])/(float(len(movie['User'].unique())) * \\\n",
    "                                        float(len(movie['Item'].unique())))"
   ]
  },
  {
   "cell_type": "code",
   "execution_count": null,
   "metadata": {
    "collapsed": true
   },
   "outputs": [],
   "source": []
  }
 ],
 "metadata": {
  "kernelspec": {
   "display_name": "Python 2",
   "language": "python",
   "name": "python2"
  },
  "language_info": {
   "codemirror_mode": {
    "name": "ipython",
    "version": 2
   },
   "file_extension": ".py",
   "mimetype": "text/x-python",
   "name": "python",
   "nbconvert_exporter": "python",
   "pygments_lexer": "ipython2",
   "version": "2.7.11"
  }
 },
 "nbformat": 4,
 "nbformat_minor": 0
}
